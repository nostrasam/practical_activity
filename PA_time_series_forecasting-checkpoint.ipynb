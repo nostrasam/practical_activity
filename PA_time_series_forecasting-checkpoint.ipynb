{
 "cells": [
  {
   "cell_type": "markdown",
   "id": "bb89bb15-f842-4479-acbf-fd0008445e2e",
   "metadata": {},
   "source": [
    "# Importing / sense-checking"
   ]
  },
  {
   "cell_type": "code",
   "execution_count": 4,
   "id": "503b91c2-6b6e-4df7-b526-7033b1ea159a",
   "metadata": {},
   "outputs": [
    {
     "name": "stdout",
     "output_type": "stream",
     "text": [
      "(29580, 4)\n",
      "postcode         int64\n",
      "price            int64\n",
      "propertyType    object\n",
      "bedrooms         int64\n",
      "dtype: object\n"
     ]
    },
    {
     "data": {
      "text/html": [
       "<div>\n",
       "<style scoped>\n",
       "    .dataframe tbody tr th:only-of-type {\n",
       "        vertical-align: middle;\n",
       "    }\n",
       "\n",
       "    .dataframe tbody tr th {\n",
       "        vertical-align: top;\n",
       "    }\n",
       "\n",
       "    .dataframe thead th {\n",
       "        text-align: right;\n",
       "    }\n",
       "</style>\n",
       "<table border=\"1\" class=\"dataframe\">\n",
       "  <thead>\n",
       "    <tr style=\"text-align: right;\">\n",
       "      <th></th>\n",
       "      <th>postcode</th>\n",
       "      <th>price</th>\n",
       "      <th>propertyType</th>\n",
       "      <th>bedrooms</th>\n",
       "    </tr>\n",
       "    <tr>\n",
       "      <th>datesold</th>\n",
       "      <th></th>\n",
       "      <th></th>\n",
       "      <th></th>\n",
       "      <th></th>\n",
       "    </tr>\n",
       "  </thead>\n",
       "  <tbody>\n",
       "    <tr>\n",
       "      <th>2007-02-07</th>\n",
       "      <td>2607</td>\n",
       "      <td>525000</td>\n",
       "      <td>house</td>\n",
       "      <td>4</td>\n",
       "    </tr>\n",
       "    <tr>\n",
       "      <th>2007-02-27</th>\n",
       "      <td>2906</td>\n",
       "      <td>290000</td>\n",
       "      <td>house</td>\n",
       "      <td>3</td>\n",
       "    </tr>\n",
       "    <tr>\n",
       "      <th>2007-03-07</th>\n",
       "      <td>2905</td>\n",
       "      <td>328000</td>\n",
       "      <td>house</td>\n",
       "      <td>3</td>\n",
       "    </tr>\n",
       "    <tr>\n",
       "      <th>2007-03-09</th>\n",
       "      <td>2905</td>\n",
       "      <td>380000</td>\n",
       "      <td>house</td>\n",
       "      <td>4</td>\n",
       "    </tr>\n",
       "    <tr>\n",
       "      <th>2007-03-21</th>\n",
       "      <td>2906</td>\n",
       "      <td>310000</td>\n",
       "      <td>house</td>\n",
       "      <td>3</td>\n",
       "    </tr>\n",
       "    <tr>\n",
       "      <th>...</th>\n",
       "      <td>...</td>\n",
       "      <td>...</td>\n",
       "      <td>...</td>\n",
       "      <td>...</td>\n",
       "    </tr>\n",
       "    <tr>\n",
       "      <th>2019-07-25</th>\n",
       "      <td>2900</td>\n",
       "      <td>500000</td>\n",
       "      <td>unit</td>\n",
       "      <td>3</td>\n",
       "    </tr>\n",
       "    <tr>\n",
       "      <th>2019-07-25</th>\n",
       "      <td>2612</td>\n",
       "      <td>560000</td>\n",
       "      <td>unit</td>\n",
       "      <td>2</td>\n",
       "    </tr>\n",
       "    <tr>\n",
       "      <th>2019-07-26</th>\n",
       "      <td>2912</td>\n",
       "      <td>464950</td>\n",
       "      <td>unit</td>\n",
       "      <td>2</td>\n",
       "    </tr>\n",
       "    <tr>\n",
       "      <th>2019-07-26</th>\n",
       "      <td>2601</td>\n",
       "      <td>589000</td>\n",
       "      <td>unit</td>\n",
       "      <td>2</td>\n",
       "    </tr>\n",
       "    <tr>\n",
       "      <th>2019-07-26</th>\n",
       "      <td>2612</td>\n",
       "      <td>775000</td>\n",
       "      <td>unit</td>\n",
       "      <td>2</td>\n",
       "    </tr>\n",
       "  </tbody>\n",
       "</table>\n",
       "<p>29580 rows × 4 columns</p>\n",
       "</div>"
      ],
      "text/plain": [
       "            postcode   price propertyType  bedrooms\n",
       "datesold                                           \n",
       "2007-02-07      2607  525000        house         4\n",
       "2007-02-27      2906  290000        house         3\n",
       "2007-03-07      2905  328000        house         3\n",
       "2007-03-09      2905  380000        house         4\n",
       "2007-03-21      2906  310000        house         3\n",
       "...              ...     ...          ...       ...\n",
       "2019-07-25      2900  500000         unit         3\n",
       "2019-07-25      2612  560000         unit         2\n",
       "2019-07-26      2912  464950         unit         2\n",
       "2019-07-26      2601  589000         unit         2\n",
       "2019-07-26      2612  775000         unit         2\n",
       "\n",
       "[29580 rows x 4 columns]"
      ]
     },
     "execution_count": 4,
     "metadata": {},
     "output_type": "execute_result"
    }
   ],
   "source": [
    "# Import libraries\n",
    "\n",
    "import numpy as np\n",
    "import pandas as pd\n",
    "import matplotlib.pyplot as plt\n",
    "import seaborn as sns\n",
    "sns.set()\n",
    "\n",
    "from sklearn.metrics import r2_score, median_absolute_error, mean_absolute_error\n",
    "from sklearn.metrics import median_absolute_error, mean_squared_error, mean_squared_log_error\n",
    "\n",
    "import warnings\n",
    "warnings.filterwarnings('ignore')\n",
    "\n",
    "%matplotlib inline\n",
    "\n",
    "# Get multiple outputs in the same cell.\n",
    "from IPython.core.interactiveshell import InteractiveShell\n",
    "InteractiveShell.ast_node_interactivity = 'all'\n",
    "\n",
    "\n",
    "# Import the CSV file with Pandas.\n",
    "# data = pd.read_csv('Data/raw_sales.csv', index_col=['datesold'], parse_dates=['datesold'])\n",
    "# It seems that the 'Data/raw_sales.csv' does not exist. I have been able to assist in fixing. Kindly recpmfirm it.\n",
    "data = pd.read_csv('raw_sales.csv', index_col=['datesold'], parse_dates=['datesold'])\n",
    "\n",
    "# View the DataFrame.\n",
    "print(data.shape)\n",
    "print(data.dtypes)\n",
    "data"
   ]
  },
  {
   "cell_type": "code",
   "execution_count": null,
   "id": "ff82d2c4-32db-441c-91d5-437f3318bde3",
   "metadata": {},
   "outputs": [],
   "source": [
    "# Checking different values\n",
    "\n",
    "data.nunique()"
   ]
  },
  {
   "cell_type": "code",
   "execution_count": null,
   "id": "f9dac93f-de6b-4bd4-a701-cff9cada1b52",
   "metadata": {},
   "outputs": [],
   "source": [
    "# Checking for missing values\n",
    "\n",
    "data.isna().sum()\n",
    "\n",
    "# Dataset does not contain NA/s"
   ]
  },
  {
   "cell_type": "code",
   "execution_count": null,
   "id": "c8ffecea-583d-46cb-a6da-29234790a69b",
   "metadata": {},
   "outputs": [],
   "source": [
    "# Plotting house prices over time\n",
    "\n",
    "prices_over_time = data.reset_index()\n",
    "sns.lineplot(x='datesold', y='price', ci=False, data=prices_over_time)\n",
    "\n",
    "plt.plot(figsize=(12, 4))\n",
    "plt.title('House prices over time')\n",
    "plt.xlabel('Date Sold')\n",
    "plt.ylabel('Price')"
   ]
  },
  {
   "cell_type": "code",
   "execution_count": null,
   "id": "742a1e7d-45ec-4649-a855-4099834d88d6",
   "metadata": {},
   "outputs": [],
   "source": [
    "# Plotting bedroom count\n",
    "\n",
    "bedroom_count = data.groupby('bedrooms').count().reset_index()\n",
    "sns.barplot(x='bedrooms', y='postcode', data=bedroom_count)\n",
    "\n",
    "plt.title('Count of bedrooms')\n",
    "plt.xlabel('Number of bedrooms')\n",
    "plt.ylabel('Bedroom count')"
   ]
  },
  {
   "cell_type": "code",
   "execution_count": null,
   "id": "a9f37e21-4b01-44c0-986d-744fb7cb4cf7",
   "metadata": {},
   "outputs": [],
   "source": [
    "# Creating subsets for the different bedroom numbers\n",
    "\n",
    "bedroom_0 = data[data['bedrooms'] == 0]\n",
    "bedroom_1 = data[data['bedrooms'] == 1]\n",
    "bedroom_2 = data[data['bedrooms'] == 2]\n",
    "bedroom_3 = data[data['bedrooms'] == 3]\n",
    "bedroom_4 = data[data['bedrooms'] == 4]\n",
    "bedroom_5 = data[data['bedrooms'] == 5]\n"
   ]
  },
  {
   "cell_type": "code",
   "execution_count": null,
   "id": "ecf5e167-0747-4c57-8072-bf2f1bbae5ad",
   "metadata": {},
   "outputs": [],
   "source": [
    "# Plotting 1-bedroom properties with a histogram\n",
    "\n",
    "fig, axes = plt.subplots(2, 3, figsize=(20, 20))\n",
    "\n",
    "sns.histplot(bedroom_0['price'], ax=axes[0, 0])\n",
    "sns.histplot(bedroom_1['price'], ax=axes[0, 1])\n",
    "sns.histplot(bedroom_2['price'], ax=axes[0, 2])\n",
    "sns.histplot(bedroom_3['price'], ax=axes[1, 0])\n",
    "sns.histplot(bedroom_4['price'], ax=axes[1, 1])\n",
    "sns.histplot(bedroom_5['price'], ax=axes[1, 2])\n"
   ]
  },
  {
   "cell_type": "markdown",
   "id": "27592a1d-2f19-4556-a1ff-3c6da8eff40d",
   "metadata": {},
   "source": [
    "# Analyzing spread of values "
   ]
  },
  {
   "cell_type": "code",
   "execution_count": null,
   "id": "9693e6b2-901a-4a3f-8b2b-64e469936f2c",
   "metadata": {},
   "outputs": [],
   "source": [
    "# Creating a boxplot to identify outliers for 1 bedroom\n",
    "\n",
    "plt.figure(figsize=(18, 4))\n",
    "sns.boxplot(x='price', data=bedroom_1)\n"
   ]
  },
  {
   "cell_type": "code",
   "execution_count": null,
   "id": "e42eac21-83a7-43c2-b180-fff7cd1a4ea7",
   "metadata": {},
   "outputs": [],
   "source": [
    "# Creating a boxplot to identify outliers for 2 bedroom\n",
    "\n",
    "plt.figure(figsize=(18, 4))\n",
    "sns.boxplot(x='price', data=bedroom_2)\n"
   ]
  },
  {
   "cell_type": "code",
   "execution_count": null,
   "id": "0a552355-5fbe-4a09-b210-fdc4495bad8a",
   "metadata": {},
   "outputs": [],
   "source": [
    "# Creating a boxplot to identify outliers for 3 bedroom\n",
    "\n",
    "plt.figure(figsize=(18, 4))\n",
    "sns.boxplot(x='price', data=bedroom_3)\n"
   ]
  },
  {
   "cell_type": "code",
   "execution_count": null,
   "id": "8e761ecf-7e5e-46ec-800e-5bc647dba67c",
   "metadata": {},
   "outputs": [],
   "source": [
    "# Creating a boxplot to identify outliers for 4 bedroom\n",
    "\n",
    "plt.figure(figsize=(18, 4))\n",
    "sns.boxplot(x='price', data=bedroom_4)\n"
   ]
  },
  {
   "cell_type": "code",
   "execution_count": null,
   "id": "67262b62-0576-4bb0-9ef0-01f97dd4e2fc",
   "metadata": {},
   "outputs": [],
   "source": [
    "# Creating a boxplot to identify outliers for 5 bedroom\n",
    "\n",
    "plt.figure(figsize=(18, 4))\n",
    "sns.boxplot(x='price', data=bedroom_5)\n"
   ]
  },
  {
   "cell_type": "markdown",
   "id": "6909779e-1a43-4509-9bb1-91856cfc3911",
   "metadata": {},
   "source": [
    "# Identifying and removing outliers"
   ]
  },
  {
   "cell_type": "code",
   "execution_count": null,
   "id": "3258dd37-a0bc-44cc-8b61-a8d5232a2998",
   "metadata": {},
   "outputs": [],
   "source": [
    "# Define function to filter out outliers\n",
    "def remove_price_outlier(df):\n",
    "    # Get prices\n",
    "    prices = df['price']\n",
    "    # calculate quartiles, IQR and limits\n",
    "    q1 = prices.quantile(0.25)\n",
    "    q3 = prices.quantile(0.75)\n",
    "    IQR = q3 - q1\n",
    "    lower_limit = q1 - 1.5 * IQR\n",
    "    upper_limit = q3 + 1.5 * IQR\n",
    "    \n",
    "    # Filter dataset by limits\n",
    "    df_filt = df[(prices > lower_limit) & (prices < upper_limit)]\n",
    "    return df_filt"
   ]
  },
  {
   "cell_type": "code",
   "execution_count": null,
   "id": "3650d6f3-c79d-4f32-be2d-788552fa42bc",
   "metadata": {},
   "outputs": [],
   "source": [
    "# Identifying and remmoving outliers: bedroom_1\n",
    "\n",
    "bedroom_1_non_outlier = remove_price_outlier(bedroom_1)\n",
    "bedroom_1_non_outlier\n",
    "\n",
    "# Creating a boxplot to identify outliers for 1 bedroom\n",
    "\n",
    "plt.figure(figsize=(18, 4))\n",
    "sns.boxplot(x='price', data=bedroom_1_non_outlier)\n"
   ]
  },
  {
   "cell_type": "code",
   "execution_count": null,
   "id": "b9c83ce3-442a-4b3e-a11e-ff61525d91ac",
   "metadata": {},
   "outputs": [],
   "source": [
    "# Identifying and removing outliers: bedroom_2\n",
    "\n",
    "bedroom_2_non_outlier = remove_price_outlier(bedroom_2)\n",
    "bedroom_2_non_outlier\n",
    "\n",
    "# Creating a boxplot to identify outliers for 1 bedroom\n",
    "\n",
    "plt.figure(figsize=(18, 4))\n",
    "sns.boxplot(x='price', data=bedroom_2_non_outlier)\n"
   ]
  },
  {
   "cell_type": "code",
   "execution_count": null,
   "id": "91402d21-6d85-4a2a-91d9-9d468b5cf272",
   "metadata": {},
   "outputs": [],
   "source": [
    "# Identifying and removing outliers: bedroom_3\n",
    "\n",
    "bedroom_3_non_outlier = remove_price_outlier(bedroom_3)\n",
    "bedroom_3_non_outlier\n",
    "\n",
    "# Creating a boxplot to identify outliers for 1 bedroom\n",
    "\n",
    "plt.figure(figsize=(18, 4))\n",
    "sns.boxplot(x='price', data=bedroom_3_non_outlier)\n"
   ]
  },
  {
   "cell_type": "code",
   "execution_count": null,
   "id": "db6fecf3-a807-49ac-8978-f3e350c18cc3",
   "metadata": {},
   "outputs": [],
   "source": [
    "# Identifying and removing outliers: bedroom_4\n",
    "\n",
    "bedroom_4_non_outlier = remove_price_outlier(bedroom_4)\n",
    "bedroom_4_non_outlier\n",
    "\n",
    "# Creating a boxplot to identify outliers for 1 bedroom\n",
    "\n",
    "plt.figure(figsize=(18, 4))\n",
    "sns.boxplot(x='price', data=bedroom_4_non_outlier)\n"
   ]
  },
  {
   "cell_type": "code",
   "execution_count": null,
   "id": "89dded78-0ade-4d90-bf7f-3370abc61849",
   "metadata": {},
   "outputs": [],
   "source": [
    "# Identifying and removing outliers: bedroom_5\n",
    "\n",
    "bedroom_5_non_outlier = remove_price_outlier(bedroom_5)\n",
    "bedroom_5_non_outlier\n",
    "\n",
    "# Creating a boxplot to identify outliers for 1 bedroom\n",
    "\n",
    "plt.figure(figsize=(18, 4))\n",
    "sns.boxplot(x='price', data=bedroom_5_non_outlier)\n"
   ]
  },
  {
   "cell_type": "markdown",
   "id": "30092a65-76be-4a40-960c-7de2544bd68b",
   "metadata": {},
   "source": [
    "# Time-series-Forecasting: 1 Bedroom"
   ]
  },
  {
   "cell_type": "code",
   "execution_count": null,
   "id": "b411b97e-ec9f-4236-b068-79c9a7af1c0d",
   "metadata": {},
   "outputs": [],
   "source": [
    "# Creating a time series for house prices 1 bedroom\n",
    "\n",
    "bedroom_1_non_outlier\n",
    "\n",
    "bedroom_1_non_outlier['price'].plot(figsize=(12, 4))\n",
    "plt.legend(loc='best')\n",
    "plt.title('Time series plot for house with 1 bedroom')\n",
    "plt.show(block=False)"
   ]
  },
  {
   "cell_type": "code",
   "execution_count": null,
   "id": "2f8da876-9d42-4fec-b85e-14fa9ecbaad4",
   "metadata": {},
   "outputs": [],
   "source": [
    "# Resampling the dataset\n",
    "\n",
    "bedroom_1_res = bedroom_1_non_outlier.resample('M').mean()\n",
    "bedroom_1_res.isna().sum()\n",
    "\n",
    "# Drop the missing values. \n",
    "bedroom_1_res.dropna(inplace= True)\n",
    "bedroom_1_res.isna().sum()\n",
    "\n",
    "\n",
    "# Plot the time series data.\n",
    "\n",
    "plt.figure(figsize=(12, 4))\n",
    "sns.lineplot(x='datesold', y='price', data=bedroom_1_res)\n"
   ]
  },
  {
   "cell_type": "code",
   "execution_count": 2,
   "id": "92d5076f-f525-439c-bd69-a4b7fe218747",
   "metadata": {},
   "outputs": [
    {
     "ename": "NameError",
     "evalue": "name 'bedroom_2_non_outlier' is not defined",
     "output_type": "error",
     "traceback": [
      "\u001b[1;31m---------------------------------------------------------------------------\u001b[0m",
      "\u001b[1;31mNameError\u001b[0m                                 Traceback (most recent call last)",
      "\u001b[1;32m~\\AppData\\Local\\Temp\\ipykernel_23292\\3242454030.py\u001b[0m in \u001b[0;36m<module>\u001b[1;34m\u001b[0m\n\u001b[0;32m      1\u001b[0m \u001b[1;31m# Resampling the dataset\u001b[0m\u001b[1;33m\u001b[0m\u001b[1;33m\u001b[0m\u001b[0m\n\u001b[0;32m      2\u001b[0m \u001b[1;33m\u001b[0m\u001b[0m\n\u001b[1;32m----> 3\u001b[1;33m \u001b[0mbedroom_2_res\u001b[0m \u001b[1;33m=\u001b[0m \u001b[0mbedroom_2_non_outlier\u001b[0m\u001b[1;33m.\u001b[0m\u001b[0mresample\u001b[0m\u001b[1;33m(\u001b[0m\u001b[1;34m'M'\u001b[0m\u001b[1;33m)\u001b[0m\u001b[1;33m.\u001b[0m\u001b[0mmean\u001b[0m\u001b[1;33m(\u001b[0m\u001b[1;33m)\u001b[0m\u001b[1;33m\u001b[0m\u001b[1;33m\u001b[0m\u001b[0m\n\u001b[0m\u001b[0;32m      4\u001b[0m \u001b[0mbedroom_2_res\u001b[0m\u001b[1;33m.\u001b[0m\u001b[0misna\u001b[0m\u001b[1;33m(\u001b[0m\u001b[1;33m)\u001b[0m\u001b[1;33m.\u001b[0m\u001b[0msum\u001b[0m\u001b[1;33m(\u001b[0m\u001b[1;33m)\u001b[0m\u001b[1;33m\u001b[0m\u001b[1;33m\u001b[0m\u001b[0m\n\u001b[0;32m      5\u001b[0m \u001b[1;33m\u001b[0m\u001b[0m\n",
      "\u001b[1;31mNameError\u001b[0m: name 'bedroom_2_non_outlier' is not defined"
     ]
    }
   ],
   "source": [
    "# Resampling the dataset\n",
    "\n",
    "bedroom_2_res = bedroom_2_non_outlier.resample('M').mean()\n",
    "bedroom_2_res.isna().sum()\n",
    "\n",
    "# Drop the missing values. \n",
    "bedroom_2_res.dropna(inplace= True)\n",
    "bedroom_2_res.isna().sum()\n",
    "\n",
    "\n",
    "# Plot the time series data.\n",
    "\n",
    "plt.figure(figsize=(12, 4))\n",
    "sns.lineplot(x='datesold', y='price', data=bedroom_1_res)\n"
   ]
  },
  {
   "cell_type": "code",
   "execution_count": null,
   "id": "91b23a10-f4e7-490a-8392-debc5ed686a4",
   "metadata": {},
   "outputs": [],
   "source": [
    "# Discussed in tutorial video\n",
    "# Function to calculate and plot the simple moving average \n",
    "def plot_moving_average(series, window, plot_intervals=False, scale=1.96):\n",
    "\n",
    "    rolling_mean = series.rolling(window=window).mean()\n",
    "    \n",
    "    plt.figure(figsize=(12,4))\n",
    "    plt.title(\"Moving average\\n window size = {}\".format(window))\n",
    "    plt.plot(rolling_mean, 'g', label='Simple moving average trend')\n",
    "    \n",
    "    # Plot confidence intervals for smoothed values.\n",
    "    if plot_intervals:\n",
    "        mae = mean_absolute_error(series[window:], rolling_mean[window:])\n",
    "        deviation = np.std(series[window:] - rolling_mean[window:])\n",
    "        lower_bound = rolling_mean - (mae + scale * deviation)\n",
    "        upper_bound = rolling_mean + (mae + scale * deviation)\n",
    "        plt.plot(upper_bound, 'r--', label='Upper bound / Lower bound')\n",
    "        plt.plot(lower_bound, 'r--')\n",
    "            \n",
    "    plt.plot(series[window:], label='Actual values')\n",
    "    plt.legend(loc='best')\n",
    "    plt.grid(True)\n",
    "    \n",
    "# Five data point smoothing\n",
    "plot_moving_average(bedroom_1_res.price, 5, plot_intervals=True)\n",
    "\n",
    "# 30 data point smoothing\n",
    "plot_moving_average(bedroom_1_res.price, 30, plot_intervals=True)\n",
    "\n",
    "# 90 data point smoothing\n",
    "plot_moving_average(bedroom_1_res.price, 90, plot_intervals=True)"
   ]
  },
  {
   "cell_type": "markdown",
   "id": "56b61639-5485-44df-ab88-bc8f7e0bc69f",
   "metadata": {},
   "source": [
    "# Time-series-Forecasting: 2 Bedroom"
   ]
  },
  {
   "cell_type": "code",
   "execution_count": null,
   "id": "12ef3883-f74d-408d-bdca-37f99fa828e5",
   "metadata": {},
   "outputs": [],
   "source": [
    "# Creating a time series for house prices 2 bedroom\n",
    "\n",
    "bedroom_2_non_outlier\n",
    "\n",
    "bedroom_2_non_outlier['price'].plot(figsize=(12, 4))\n",
    "plt.legend(loc='best')\n",
    "plt.title('Time series plot for house with 2 bedroom')\n",
    "plt.show(block=False)"
   ]
  },
  {
   "cell_type": "code",
   "execution_count": null,
   "id": "f6fe512a-6795-4cf8-ae3c-426f7e61b204",
   "metadata": {},
   "outputs": [],
   "source": [
    "# Resampling the dataset\n",
    "\n",
    "bedroom_2_res = bedroom_2_non_outlier.resample('M').mean()\n",
    "bedroom_2_res.isna().sum()\n",
    "\n",
    "# Drop the missing values. \n",
    "bedroom_2_res.dropna(inplace= True)\n",
    "bedroom_2_res.isna().sum()\n",
    "\n",
    "\n",
    "# Plot the time series data.\n",
    "\n",
    "plt.figure(figsize=(12, 4))\n",
    "sns.lineplot(x='datesold', y='price', data=bedroom_2_res)\n"
   ]
  },
  {
   "cell_type": "code",
   "execution_count": null,
   "id": "56094e63-25b3-4ec3-8840-8c808835c5be",
   "metadata": {},
   "outputs": [],
   "source": [
    "# Discussed in tutorial video\n",
    "# Function to calculate and plot the simple moving average \n",
    "def plot_moving_average(series, window, plot_intervals=False, scale=1.96):\n",
    "\n",
    "    rolling_mean = series.rolling(window=window).mean()\n",
    "    \n",
    "    plt.figure(figsize=(12,4))\n",
    "    plt.title(\"Moving average\\n window size = {}\".format(window))\n",
    "    plt.plot(rolling_mean, 'g', label='Simple moving average trend')\n",
    "    \n",
    "    # Plot confidence intervals for smoothed values.\n",
    "    if plot_intervals:\n",
    "        mae = mean_absolute_error(series[window:], rolling_mean[window:])\n",
    "        deviation = np.std(series[window:] - rolling_mean[window:])\n",
    "        lower_bound = rolling_mean - (mae + scale * deviation)\n",
    "        upper_bound = rolling_mean + (mae + scale * deviation)\n",
    "        plt.plot(upper_bound, 'r--', label='Upper bound / Lower bound')\n",
    "        plt.plot(lower_bound, 'r--')\n",
    "            \n",
    "    plt.plot(series[window:], label='Actual values')\n",
    "    plt.legend(loc='best')\n",
    "    plt.grid(True)\n",
    "    \n",
    "# Five data point\n",
    "plot_moving_average(bedroom_2_res.price, 5, plot_intervals=True)\n",
    "\n",
    "# 30 data point smoothing\n",
    "plot_moving_average(bedroom_2_res.price, 30, plot_intervals=True)\n",
    "\n",
    "# 90 data point smoothing\n",
    "plot_moving_average(bedroom_2_res.price, 90, plot_intervals=True)"
   ]
  },
  {
   "cell_type": "markdown",
   "id": "93563b99-1cda-4749-89a3-348f061a8f04",
   "metadata": {},
   "source": [
    "# Time-series-Forecasting: 3 Bedroom\n"
   ]
  },
  {
   "cell_type": "code",
   "execution_count": null,
   "id": "7aa18744-07ca-46e1-8ac0-96c55f48febb",
   "metadata": {},
   "outputs": [],
   "source": [
    "# Creating a time series for house prices 3 bedroom\n",
    "\n",
    "bedroom_3_non_outlier\n",
    "\n",
    "bedroom_3_non_outlier['price'].plot(figsize=(12, 4))\n",
    "plt.legend(loc='best')\n",
    "plt.title('Time series plot for house with 3 bedrooms')\n",
    "plt.show(block=False)"
   ]
  },
  {
   "cell_type": "code",
   "execution_count": null,
   "id": "b8f98fd8-1ac5-48ab-8b83-e69e7c42fbf6",
   "metadata": {},
   "outputs": [],
   "source": [
    "# Resampling the dataset\n",
    "\n",
    "bedroom_3_res = bedroom_3_non_outlier.resample('M').mean()\n",
    "bedroom_3_res.isna().sum()\n",
    "\n",
    "# Drop the missing values. \n",
    "bedroom_3_res.dropna(inplace= True)\n",
    "bedroom_3_res.isna().sum()\n",
    "\n",
    "\n",
    "# Plot the time series data.\n",
    "\n",
    "plt.figure(figsize=(12, 4))\n",
    "sns.lineplot(x='datesold', y='price', data=bedroom_3_res)\n"
   ]
  },
  {
   "cell_type": "code",
   "execution_count": null,
   "id": "1bb2866e-7493-4fe6-a16d-0f56fc598abb",
   "metadata": {},
   "outputs": [],
   "source": [
    "# Discussed in tutorial video\n",
    "# Function to calculate and plot the simple moving average \n",
    "def plot_moving_average(series, window, plot_intervals=False, scale=1.96):\n",
    "\n",
    "    rolling_mean = series.rolling(window=window).mean()\n",
    "    \n",
    "    plt.figure(figsize=(12,4))\n",
    "    plt.title(\"Moving average\\n window size = {}\".format(window))\n",
    "    plt.plot(rolling_mean, 'g', label='Simple moving average trend')\n",
    "    \n",
    "    # Plot confidence intervals for smoothed values.\n",
    "    if plot_intervals:\n",
    "        mae = mean_absolute_error(series[window:], rolling_mean[window:])\n",
    "        deviation = np.std(series[window:] - rolling_mean[window:])\n",
    "        lower_bound = rolling_mean - (mae + scale * deviation)\n",
    "        upper_bound = rolling_mean + (mae + scale * deviation)\n",
    "        plt.plot(upper_bound, 'r--', label='Upper bound / Lower bound')\n",
    "        plt.plot(lower_bound, 'r--')\n",
    "            \n",
    "    plt.plot(series[window:], label='Actual values')\n",
    "    plt.legend(loc='best')\n",
    "    plt.grid(True)\n",
    "    \n",
    "# Five data point\n",
    "plot_moving_average(bedroom_3_res.price, 5, plot_intervals=True)\n",
    "\n",
    "# 30 data point smoothing\n",
    "plot_moving_average(bedroom_3_res.price, 30, plot_intervals=True)\n",
    "\n",
    "# 90 data point smoothing\n",
    "plot_moving_average(bedroom_3_res.price, 90, plot_intervals=True)"
   ]
  },
  {
   "cell_type": "markdown",
   "id": "12bd3dc1-3798-40c2-860a-d30a7e633a23",
   "metadata": {},
   "source": [
    "# Time-series-Forecasting: 4 Bedroom\n"
   ]
  },
  {
   "cell_type": "code",
   "execution_count": null,
   "id": "6e48d256-2ae3-4248-84de-85d734fe89f8",
   "metadata": {},
   "outputs": [],
   "source": [
    "# Creating a time series for house prices 4 bedrooms\n",
    "\n",
    "bedroom_4_non_outlier\n",
    "\n",
    "bedroom_4_non_outlier['price'].plot(figsize=(12, 4))\n",
    "plt.legend(loc='best')\n",
    "plt.title('Time series plot for house with 3 bedrooms')\n",
    "plt.show(block=False)"
   ]
  },
  {
   "cell_type": "code",
   "execution_count": null,
   "id": "e08ad9a0-c67f-4887-874d-6936b3c229ec",
   "metadata": {},
   "outputs": [],
   "source": [
    "# Resampling the dataset\n",
    "\n",
    "bedroom_4_res = bedroom_4_non_outlier.resample('M').mean()\n",
    "bedroom_4_res.isna().sum()\n",
    "\n",
    "# Drop the missing values. \n",
    "bedroom_4_res.dropna(inplace= True)\n",
    "bedroom_4_res.isna().sum()\n",
    "\n",
    "\n",
    "# Plot the time series data.\n",
    "\n",
    "plt.figure(figsize=(12, 4))\n",
    "sns.lineplot(x='datesold', y='price', data=bedroom_4_res)\n"
   ]
  },
  {
   "cell_type": "code",
   "execution_count": null,
   "id": "b2f11398-3875-4129-b518-4736f4a3004b",
   "metadata": {},
   "outputs": [],
   "source": [
    "# Discussed in tutorial video\n",
    "# Function to calculate and plot the simple moving average \n",
    "def plot_moving_average(series, window, plot_intervals=False, scale=1.96):\n",
    "\n",
    "    rolling_mean = series.rolling(window=window).mean()\n",
    "    \n",
    "    plt.figure(figsize=(12,4))\n",
    "    plt.title(\"Moving average\\n window size = {}\".format(window))\n",
    "    plt.plot(rolling_mean, 'g', label='Simple moving average trend')\n",
    "    \n",
    "    # Plot confidence intervals for smoothed values.\n",
    "    if plot_intervals:\n",
    "        mae = mean_absolute_error(series[window:], rolling_mean[window:])\n",
    "        deviation = np.std(series[window:] - rolling_mean[window:])\n",
    "        lower_bound = rolling_mean - (mae + scale * deviation)\n",
    "        upper_bound = rolling_mean + (mae + scale * deviation)\n",
    "        plt.plot(upper_bound, 'r--', label='Upper bound / Lower bound')\n",
    "        plt.plot(lower_bound, 'r--')\n",
    "            \n",
    "    plt.plot(series[window:], label='Actual values')\n",
    "    plt.legend(loc='best')\n",
    "    plt.grid(True)\n",
    "    \n",
    "# Five data point\n",
    "plot_moving_average(bedroom_4_res.price, 5, plot_intervals=True)\n",
    "\n",
    "# 30 data point smoothing\n",
    "plot_moving_average(bedroom_4_res.price, 30, plot_intervals=True)\n",
    "\n",
    "# 90 data point smoothing\n",
    "plot_moving_average(bedroom_4_res.price, 90, plot_intervals=True)"
   ]
  },
  {
   "cell_type": "markdown",
   "id": "140b99df-9c9a-4cd4-a95e-7f522624ce40",
   "metadata": {},
   "source": [
    "# Time-series-Forecasting: 5 Bedroom\n"
   ]
  },
  {
   "cell_type": "code",
   "execution_count": null,
   "id": "f11bd8e2-8878-45b6-b555-aaed0ecbf633",
   "metadata": {},
   "outputs": [],
   "source": [
    "# Creating a time series for house prices 5 bedrooms\n",
    "\n",
    "bedroom_5_non_outlier\n",
    "\n",
    "bedroom_5_non_outlier['price'].plot(figsize=(12, 4))\n",
    "plt.legend(loc='best')\n",
    "plt.title('Time series plot for house with 5 bedrooms')\n",
    "plt.show(block=False)"
   ]
  },
  {
   "cell_type": "code",
   "execution_count": null,
   "id": "5c156e8b-4858-48e9-9a1f-85a5ba511af2",
   "metadata": {},
   "outputs": [],
   "source": [
    "# Resampling the dataset\n",
    "\n",
    "bedroom_5_res = bedroom_5_non_outlier.resample('M').mean()\n",
    "bedroom_5_res.isna().sum()\n",
    "\n",
    "# Drop the missing values. \n",
    "bedroom_5_res.dropna(inplace= True)\n",
    "bedroom_5_res.isna().sum()\n",
    "\n",
    "\n",
    "# Plot the time series data.\n",
    "\n",
    "plt.figure(figsize=(12, 4))\n",
    "sns.lineplot(x='datesold', y='price', data=bedroom_4_res)\n"
   ]
  },
  {
   "cell_type": "code",
   "execution_count": null,
   "id": "3be3d91a-f410-41e8-9159-5b89a840c318",
   "metadata": {},
   "outputs": [],
   "source": [
    "# Discussed in tutorial video\n",
    "# Function to calculate and plot the simple moving average \n",
    "def plot_moving_average(series, window, plot_intervals=False, scale=1.96):\n",
    "\n",
    "    rolling_mean = series.rolling(window=window).mean()\n",
    "    \n",
    "    plt.figure(figsize=(12,4))\n",
    "    plt.title(\"Moving average\\n window size = {}\".format(window))\n",
    "    plt.plot(rolling_mean, 'g', label='Simple moving average trend')\n",
    "    \n",
    "    # Plot confidence intervals for smoothed values.\n",
    "    if plot_intervals:\n",
    "        mae = mean_absolute_error(series[window:], rolling_mean[window:])\n",
    "        deviation = np.std(series[window:] - rolling_mean[window:])\n",
    "        lower_bound = rolling_mean - (mae + scale * deviation)\n",
    "        upper_bound = rolling_mean + (mae + scale * deviation)\n",
    "        plt.plot(upper_bound, 'r--', label='Upper bound / Lower bound')\n",
    "        plt.plot(lower_bound, 'r--')\n",
    "            \n",
    "    plt.plot(series[window:], label='Actual values')\n",
    "    plt.legend(loc='best')\n",
    "    plt.grid(True)\n",
    "    \n",
    "# Five data point\n",
    "plot_moving_average(bedroom_5_res.price, 5, plot_intervals=True)\n",
    "\n",
    "# 30 data point smoothing\n",
    "plot_moving_average(bedroom_5_res.price, 30, plot_intervals=True)\n",
    "\n",
    "# 90 data point smoothing\n",
    "plot_moving_average(bedroom_5_res.price, 90, plot_intervals=True)"
   ]
  }
 ],
 "metadata": {
  "kernelspec": {
   "display_name": "Python 3 (ipykernel)",
   "language": "python",
   "name": "python3"
  },
  "language_info": {
   "codemirror_mode": {
    "name": "ipython",
    "version": 3
   },
   "file_extension": ".py",
   "mimetype": "text/x-python",
   "name": "python",
   "nbconvert_exporter": "python",
   "pygments_lexer": "ipython3",
   "version": "3.9.13"
  }
 },
 "nbformat": 4,
 "nbformat_minor": 5
}
